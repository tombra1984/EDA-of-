{
 "cells": [
  {
   "cell_type": "code",
   "execution_count": 1,
   "metadata": {},
   "outputs": [],
   "source": [
    "#import necessary libraries\n",
    "import pandas as pd\n",
    "import numpy as np\n",
    "import statsmodels.api as sm"
   ]
  },
  {
   "cell_type": "code",
   "execution_count": 2,
   "metadata": {},
   "outputs": [],
   "source": [
    "#load data\n",
    "\n",
    "df= pd.read_csv (r'C:\\Users\\Tombra\\Infectious-diseases-in-California\\california infectious disease.csv')"
   ]
  },
  {
   "cell_type": "code",
   "execution_count": 3,
   "metadata": {},
   "outputs": [],
   "source": [
    "df['Percentage'] = df['Cases'] / df['Population'] * 100"
   ]
  },
  {
   "cell_type": "code",
   "execution_count": 4,
   "metadata": {},
   "outputs": [],
   "source": [
    "# Calculate the mean of each column\n",
    "mean_values = df.mean(numeric_only=True)\n",
    "\n",
    "# Fill null values with the mean of each column\n",
    "df_filled = df.fillna(mean_values)"
   ]
  },
  {
   "cell_type": "code",
   "execution_count": 5,
   "metadata": {},
   "outputs": [],
   "source": [
    "# Use boolean indexing to filter out rows with 'Yellow Fever', 'Anthrax', and 'Domoic Acid Poisoning' in the 'Disease' column because they dont have data\n",
    "filtered_diseases = ['Yellow Fever', 'Anthrax', 'Domoic Acid Poisoning']\n",
    "df_filtered = df_filled[~df_filled['Disease'].isin(filtered_diseases)]\n",
    "\n",
    "# Now df_filtered contains the rows without the specified diseases in the 'Disease' column"
   ]
  },
  {
   "cell_type": "code",
   "execution_count": 6,
   "metadata": {},
   "outputs": [
    {
     "name": "stdout",
     "output_type": "stream",
     "text": [
      "                            OLS Regression Results                            \n",
      "==============================================================================\n",
      "Dep. Variable:                  Cases   R-squared:                       0.055\n",
      "Model:                            OLS   Adj. R-squared:                  0.055\n",
      "Method:                 Least Squares   F-statistic:                     8358.\n",
      "Date:                Wed, 26 Jul 2023   Prob (F-statistic):               0.00\n",
      "Time:                        21:50:17   Log-Likelihood:            -7.4398e+05\n",
      "No. Observations:              144072   AIC:                         1.488e+06\n",
      "Df Residuals:                  144070   BIC:                         1.488e+06\n",
      "Df Model:                           1                                         \n",
      "Covariance Type:            nonrobust                                         \n",
      "==============================================================================\n",
      "                 coef    std err          t      P>|t|      [0.025      0.975]\n",
      "------------------------------------------------------------------------------\n",
      "const          1.2008      0.121      9.922      0.000       0.964       1.438\n",
      "Population  1.003e-05    1.1e-07     91.421      0.000    9.81e-06    1.02e-05\n",
      "==============================================================================\n",
      "Omnibus:                   336425.350   Durbin-Watson:                   0.994\n",
      "Prob(Omnibus):                  0.000   Jarque-Bera (JB):       4758566600.750\n",
      "Skew:                          23.142   Prob(JB):                         0.00\n",
      "Kurtosis:                     892.132   Cond. No.                     1.20e+06\n",
      "==============================================================================\n",
      "\n",
      "Notes:\n",
      "[1] Standard Errors assume that the covariance matrix of the errors is correctly specified.\n",
      "[2] The condition number is large, 1.2e+06. This might indicate that there are\n",
      "strong multicollinearity or other numerical problems.\n"
     ]
    }
   ],
   "source": [
    "\n",
    "\n",
    "# Assuming your DataFrame is named df_filtered\n",
    "\n",
    "# Create the linear model\n",
    "X = df_filtered['Population']  # Independent variable (Population)\n",
    "y = df_filtered['Cases']       # Dependent variable (Cases)\n",
    "\n",
    "# Add a constant term to the independent variable for the intercept in the model\n",
    "X = sm.add_constant(X)\n",
    "\n",
    "# Fit the linear model\n",
    "model = sm.OLS(y, X).fit()\n",
    "\n",
    "# Print the model summary\n",
    "print(model.summary())\n"
   ]
  }
 ],
 "metadata": {
  "kernelspec": {
   "display_name": "base",
   "language": "python",
   "name": "python3"
  },
  "language_info": {
   "codemirror_mode": {
    "name": "ipython",
    "version": 3
   },
   "file_extension": ".py",
   "mimetype": "text/x-python",
   "name": "python",
   "nbconvert_exporter": "python",
   "pygments_lexer": "ipython3",
   "version": "3.10.9"
  },
  "orig_nbformat": 4
 },
 "nbformat": 4,
 "nbformat_minor": 2
}
