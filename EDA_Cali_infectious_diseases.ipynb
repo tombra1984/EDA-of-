{
 "cells": [
  {
   "cell_type": "code",
   "execution_count": 1,
   "metadata": {},
   "outputs": [],
   "source": [
    "#import necessary libraries\n",
    "import pandas as pd"
   ]
  },
  {
   "cell_type": "code",
   "execution_count": 2,
   "metadata": {},
   "outputs": [],
   "source": [
    "#load data\n",
    "\n",
    "df= pd.read_csv (r'C:\\Users\\Tombra\\Infectious-diseases-in-California\\california infectious disease.csv')"
   ]
  },
  {
   "cell_type": "code",
   "execution_count": 3,
   "metadata": {},
   "outputs": [
    {
     "data": {
      "text/html": [
       "<div>\n",
       "<style scoped>\n",
       "    .dataframe tbody tr th:only-of-type {\n",
       "        vertical-align: middle;\n",
       "    }\n",
       "\n",
       "    .dataframe tbody tr th {\n",
       "        vertical-align: top;\n",
       "    }\n",
       "\n",
       "    .dataframe thead th {\n",
       "        text-align: right;\n",
       "    }\n",
       "</style>\n",
       "<table border=\"1\" class=\"dataframe\">\n",
       "  <thead>\n",
       "    <tr style=\"text-align: right;\">\n",
       "      <th></th>\n",
       "      <th>Disease</th>\n",
       "      <th>County</th>\n",
       "      <th>Year</th>\n",
       "      <th>Sex</th>\n",
       "      <th>Cases</th>\n",
       "      <th>Population</th>\n",
       "      <th>Lower 95% CI</th>\n",
       "      <th>Upper 95% CI</th>\n",
       "      <th>Rate</th>\n",
       "    </tr>\n",
       "  </thead>\n",
       "  <tbody>\n",
       "    <tr>\n",
       "      <th>0</th>\n",
       "      <td>Amebiasis</td>\n",
       "      <td>ALAMEDA</td>\n",
       "      <td>2001</td>\n",
       "      <td>FEMALE</td>\n",
       "      <td>7.0</td>\n",
       "      <td>746596</td>\n",
       "      <td>0.377</td>\n",
       "      <td>1.932</td>\n",
       "      <td>0.938*</td>\n",
       "    </tr>\n",
       "    <tr>\n",
       "      <th>1</th>\n",
       "      <td>Amebiasis</td>\n",
       "      <td>ALAMEDA</td>\n",
       "      <td>2001</td>\n",
       "      <td>MALE</td>\n",
       "      <td>9.0</td>\n",
       "      <td>718968</td>\n",
       "      <td>0.572</td>\n",
       "      <td>2.376</td>\n",
       "      <td>1.252*</td>\n",
       "    </tr>\n",
       "    <tr>\n",
       "      <th>2</th>\n",
       "      <td>Amebiasis</td>\n",
       "      <td>ALAMEDA</td>\n",
       "      <td>2001</td>\n",
       "      <td>TOTAL</td>\n",
       "      <td>16.0</td>\n",
       "      <td>1465564</td>\n",
       "      <td>0.624</td>\n",
       "      <td>1.773</td>\n",
       "      <td>1.092*</td>\n",
       "    </tr>\n",
       "    <tr>\n",
       "      <th>3</th>\n",
       "      <td>Anaplasmosis and Ehrlichiosis</td>\n",
       "      <td>ALAMEDA</td>\n",
       "      <td>2001</td>\n",
       "      <td>FEMALE</td>\n",
       "      <td>0.0</td>\n",
       "      <td>746596</td>\n",
       "      <td>0.000</td>\n",
       "      <td>0.494</td>\n",
       "      <td>-</td>\n",
       "    </tr>\n",
       "    <tr>\n",
       "      <th>4</th>\n",
       "      <td>Anaplasmosis and Ehrlichiosis</td>\n",
       "      <td>ALAMEDA</td>\n",
       "      <td>2001</td>\n",
       "      <td>MALE</td>\n",
       "      <td>0.0</td>\n",
       "      <td>718968</td>\n",
       "      <td>0.000</td>\n",
       "      <td>0.513</td>\n",
       "      <td>-</td>\n",
       "    </tr>\n",
       "  </tbody>\n",
       "</table>\n",
       "</div>"
      ],
      "text/plain": [
       "                         Disease   County  Year     Sex  Cases  Population  \\\n",
       "0                      Amebiasis  ALAMEDA  2001  FEMALE    7.0      746596   \n",
       "1                      Amebiasis  ALAMEDA  2001    MALE    9.0      718968   \n",
       "2                      Amebiasis  ALAMEDA  2001   TOTAL   16.0     1465564   \n",
       "3  Anaplasmosis and Ehrlichiosis  ALAMEDA  2001  FEMALE    0.0      746596   \n",
       "4  Anaplasmosis and Ehrlichiosis  ALAMEDA  2001    MALE    0.0      718968   \n",
       "\n",
       "   Lower 95% CI  Upper 95% CI    Rate  \n",
       "0         0.377         1.932  0.938*  \n",
       "1         0.572         2.376  1.252*  \n",
       "2         0.624         1.773  1.092*  \n",
       "3         0.000         0.494       -  \n",
       "4         0.000         0.513       -  "
      ]
     },
     "execution_count": 3,
     "metadata": {},
     "output_type": "execute_result"
    }
   ],
   "source": [
    "df.head()"
   ]
  }
 ],
 "metadata": {
  "kernelspec": {
   "display_name": "base",
   "language": "python",
   "name": "python3"
  },
  "language_info": {
   "codemirror_mode": {
    "name": "ipython",
    "version": 3
   },
   "file_extension": ".py",
   "mimetype": "text/x-python",
   "name": "python",
   "nbconvert_exporter": "python",
   "pygments_lexer": "ipython3",
   "version": "3.10.9"
  },
  "orig_nbformat": 4
 },
 "nbformat": 4,
 "nbformat_minor": 2
}
